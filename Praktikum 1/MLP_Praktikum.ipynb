{
  "nbformat": 4,
  "nbformat_minor": 0,
  "metadata": {
    "colab": {
      "provenance": [],
      "authorship_tag": "ABX9TyMwegpKm7sAHzuymBOhTKII",
      "include_colab_link": true
    },
    "kernelspec": {
      "name": "python3",
      "display_name": "Python 3"
    },
    "language_info": {
      "name": "python"
    }
  },
  "cells": [
    {
      "cell_type": "markdown",
      "metadata": {
        "id": "view-in-github",
        "colab_type": "text"
      },
      "source": [
        "<a href=\"https://colab.research.google.com/github/WahyuKhairi06/DeepLearning-WahyuKhairi-2311531009/blob/main/Praktikum%201/MLP_Praktikum.ipynb\" target=\"_parent\"><img src=\"https://colab.research.google.com/assets/colab-badge.svg\" alt=\"Open In Colab\"/></a>"
      ]
    },
    {
      "cell_type": "markdown",
      "source": [
        "# **Import library**"
      ],
      "metadata": {
        "id": "ghEb8fS40fng"
      }
    },
    {
      "cell_type": "code",
      "execution_count": 128,
      "metadata": {
        "id": "THGAC9DOz9Pm"
      },
      "outputs": [],
      "source": [
        "import torch\n",
        "import torch.nn as nn\n",
        "import torch.optim as optim\n",
        "import matplotlib.pyplot as plt\n",
        "from sklearn.datasets import load_iris\n",
        "from sklearn.model_selection import train_test_split\n",
        "from sklearn.preprocessing import StandardScaler\n",
        "from sklearn.metrics import accuracy_score"
      ]
    },
    {
      "cell_type": "markdown",
      "source": [
        "# **1. Load dataset**"
      ],
      "metadata": {
        "id": "svs61H_C0m1w"
      }
    },
    {
      "cell_type": "code",
      "source": [
        "iris = load_iris()\n",
        "X, y = iris.data, iris.target\n",
        "X = StandardScaler().fit_transform(X)\n"
      ],
      "metadata": {
        "id": "iIe4Ia0w0uXT"
      },
      "execution_count": 129,
      "outputs": []
    },
    {
      "cell_type": "code",
      "source": [
        "#Split Data\n",
        "X_train, X_test, y_train, y_test = train_test_split(X, y, test_size=0.2, random_state=42)\n",
        "\n"
      ],
      "metadata": {
        "id": "gJtcnK4l0z1M"
      },
      "execution_count": 130,
      "outputs": []
    },
    {
      "cell_type": "code",
      "source": [
        "# Convert ke tensor\n",
        "X_train = torch.FloatTensor(X_train)\n",
        "y_train = torch.LongTensor(y_train)\n",
        "X_test = torch.FloatTensor(X_test)\n",
        "y_test = torch.LongTensor(y_test)\n",
        "\n"
      ],
      "metadata": {
        "id": "-8kI7AQj1mzo"
      },
      "execution_count": 131,
      "outputs": []
    },
    {
      "cell_type": "markdown",
      "source": [
        "# 2. Definisikan MLP"
      ],
      "metadata": {
        "id": "b60DbgaT02lk"
      }
    },
    {
      "cell_type": "code",
      "source": [
        "class MLP(nn.Module):\n",
        "    def __init__(self, input_dim, output_dim):\n",
        "        super(MLP, self).__init__()\n",
        "        self.model = nn.Sequential(\n",
        "            nn.Linear(input_dim, 128),\n",
        "            nn.ReLU(),\n",
        "            nn.Linear(128, 64),\n",
        "            nn.ReLU(),\n",
        "            nn.Linear(64, 32),\n",
        "            nn.ReLU(),\n",
        "            nn.Linear(32, output_dim)\n",
        "        )\n",
        "    def forward(self, x):\n",
        "        return self.model(x)"
      ],
      "metadata": {
        "id": "G9_wZr1f0-Ef"
      },
      "execution_count": 132,
      "outputs": []
    },
    {
      "cell_type": "markdown",
      "source": [
        "# **3. Inisialisasi model**"
      ],
      "metadata": {
        "id": "CLEYAhq01ARJ"
      }
    },
    {
      "cell_type": "code",
      "source": [
        "model = MLP(4, 3)\n",
        "criterion = nn.CrossEntropyLoss()\n",
        "optimizer = optim.Adam(model.parameters(), lr=0.01)\n"
      ],
      "metadata": {
        "id": "1xtpu1ZO1C0z"
      },
      "execution_count": 133,
      "outputs": []
    },
    {
      "cell_type": "markdown",
      "source": [
        "# **4. Training loop**"
      ],
      "metadata": {
        "id": "irdYiMU11EwX"
      }
    },
    {
      "cell_type": "code",
      "source": [
        "epochs = 100\n",
        "loss_history = []\n",
        "\n",
        "for epoch in range(epochs):\n",
        "    optimizer.zero_grad()\n",
        "    outputs = model(X_train)\n",
        "    loss = criterion(outputs, y_train)\n",
        "    loss.backward()\n",
        "    optimizer.step()\n",
        "    loss_history.append(loss.item())\n",
        "\n",
        "    if (epoch + 1) % 10 == 0:\n",
        "        print(f\"Epoch [{epoch+1}/{epochs}], Loss: {loss.item():.4f}\")"
      ],
      "metadata": {
        "colab": {
          "base_uri": "https://localhost:8080/"
        },
        "id": "_lsJSvxN1KW3",
        "outputId": "807e6e8a-2ad5-44c1-cc1c-4c0c9ee023ab"
      },
      "execution_count": 134,
      "outputs": [
        {
          "output_type": "stream",
          "name": "stdout",
          "text": [
            "Epoch [10/100], Loss: 0.1861\n",
            "Epoch [20/100], Loss: 0.0488\n",
            "Epoch [30/100], Loss: 0.0352\n",
            "Epoch [40/100], Loss: 0.0254\n",
            "Epoch [50/100], Loss: 0.0145\n",
            "Epoch [60/100], Loss: 0.0064\n",
            "Epoch [70/100], Loss: 0.0024\n",
            "Epoch [80/100], Loss: 0.0010\n",
            "Epoch [90/100], Loss: 0.0006\n",
            "Epoch [100/100], Loss: 0.0004\n"
          ]
        }
      ]
    },
    {
      "cell_type": "markdown",
      "source": [
        "# **5. Evaluasi**"
      ],
      "metadata": {
        "id": "cxUdSCcI1WyS"
      }
    },
    {
      "cell_type": "code",
      "source": [
        "with torch.no_grad():\n",
        "    y_pred = torch.argmax(model(X_test), dim=1)\n",
        "    acc = accuracy_score(y_test, y_pred)\n",
        "\n",
        "print(\"\\n=== Evaluasi Model ===\")\n",
        "print(f\"Akurasi Akhir: {acc:.4f}\")"
      ],
      "metadata": {
        "colab": {
          "base_uri": "https://localhost:8080/"
        },
        "id": "4trohf6K1WbT",
        "outputId": "d939e304-4637-4564-c674-38b191d38511"
      },
      "execution_count": 135,
      "outputs": [
        {
          "output_type": "stream",
          "name": "stdout",
          "text": [
            "\n",
            "=== Evaluasi Model ===\n",
            "Akurasi Akhir: 0.9667\n"
          ]
        }
      ]
    },
    {
      "cell_type": "markdown",
      "source": [
        "# **6️. Visualisasi Loss**"
      ],
      "metadata": {
        "id": "WP5_VY7E2PtD"
      }
    },
    {
      "cell_type": "code",
      "metadata": {
        "colab": {
          "base_uri": "https://localhost:8080/",
          "height": 487
        },
        "id": "c53c7a66",
        "outputId": "5ce97b6e-3983-4a4e-c45a-f9efc5e9f6d9"
      },
      "source": [
        "plt.figure(figsize=(8,5))\n",
        "plt.plot(loss_history, label='Training Loss', linewidth=2)\n",
        "plt.xlabel('Epoch')\n",
        "plt.ylabel('Loss')\n",
        "plt.title('Grafik Loss vs Epoch')\n",
        "plt.legend()\n",
        "plt.grid(True)\n",
        "plt.show()"
      ],
      "execution_count": 136,
      "outputs": [
        {
          "output_type": "display_data",
          "data": {
            "text/plain": [
              "<Figure size 800x500 with 1 Axes>"
            ],
            "image/png": "[encoded data removed]"
          },
          "metadata": {}
        }
      ]
    },
    {
      "cell_type": "markdown",
      "source": [
        "# **7. Analisis Singkat**"
      ],
      "metadata": {
        "id": "jngRO4Gx8mqb"
      }
    },
    {
      "cell_type": "code",
      "source": [
        "print(\"\\nAnalisis Hasil:\")\n",
        "print(f\"- Model mencapai akurasi sekitar {acc:.2f}.\")\n",
        "print(\"- Loss cenderung menurun, menandakan model berhasil belajar.\")\n",
        "print(\"- Dengan arsitektur 128–64–32, model lebih kompleks dan bisa menangkap pola data lebih baik dibanding 64–32.\")\n",
        "print(\"- Jika overfitting terjadi (loss train turun tapi akurasi test stagnan), bisa dikurangi neuron atau tambahkan dropout.\")"
      ],
      "metadata": {
        "colab": {
          "base_uri": "https://localhost:8080/"
        },
        "id": "ekUqvgne8svd",
        "outputId": "64d82ef9-49c9-47e1-f273-45d9cb32b13e"
      },
      "execution_count": 137,
      "outputs": [
        {
          "output_type": "stream",
          "name": "stdout",
          "text": [
            "\n",
            "Analisis Hasil:\n",
            "- Model mencapai akurasi sekitar 0.97.\n",
            "- Loss cenderung menurun, menandakan model berhasil belajar.\n",
            "- Dengan arsitektur 128–64–32, model lebih kompleks dan bisa menangkap pola data lebih baik dibanding 64–32.\n",
            "- Jika overfitting terjadi (loss train turun tapi akurasi test stagnan), bisa dikurangi neuron atau tambahkan dropout.\n"
          ]
        }
      ]
    }
  ]
}